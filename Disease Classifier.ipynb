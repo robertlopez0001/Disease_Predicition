{
 "cells": [
  {
   "cell_type": "code",
   "execution_count": 271,
   "id": "df951537",
   "metadata": {},
   "outputs": [],
   "source": [
    "import pandas as pd\n",
    "import seaborn as sns\n",
    "import matplotlib.pyplot as plt"
   ]
  },
  {
   "cell_type": "code",
   "execution_count": 36,
   "id": "178536d2",
   "metadata": {},
   "outputs": [],
   "source": [
    "data = pd.read_csv(\"Symptom2Disease.csv\")"
   ]
  },
  {
   "cell_type": "code",
   "execution_count": 37,
   "id": "e5f01af2",
   "metadata": {},
   "outputs": [
    {
     "data": {
      "text/html": [
       "<div>\n",
       "<style scoped>\n",
       "    .dataframe tbody tr th:only-of-type {\n",
       "        vertical-align: middle;\n",
       "    }\n",
       "\n",
       "    .dataframe tbody tr th {\n",
       "        vertical-align: top;\n",
       "    }\n",
       "\n",
       "    .dataframe thead th {\n",
       "        text-align: right;\n",
       "    }\n",
       "</style>\n",
       "<table border=\"1\" class=\"dataframe\">\n",
       "  <thead>\n",
       "    <tr style=\"text-align: right;\">\n",
       "      <th></th>\n",
       "      <th>Unnamed: 0</th>\n",
       "      <th>label</th>\n",
       "      <th>text</th>\n",
       "    </tr>\n",
       "  </thead>\n",
       "  <tbody>\n",
       "    <tr>\n",
       "      <th>0</th>\n",
       "      <td>0</td>\n",
       "      <td>Psoriasis</td>\n",
       "      <td>I have been experiencing a skin rash on my arm...</td>\n",
       "    </tr>\n",
       "    <tr>\n",
       "      <th>1</th>\n",
       "      <td>1</td>\n",
       "      <td>Psoriasis</td>\n",
       "      <td>My skin has been peeling, especially on my kne...</td>\n",
       "    </tr>\n",
       "    <tr>\n",
       "      <th>2</th>\n",
       "      <td>2</td>\n",
       "      <td>Psoriasis</td>\n",
       "      <td>I have been experiencing joint pain in my fing...</td>\n",
       "    </tr>\n",
       "    <tr>\n",
       "      <th>3</th>\n",
       "      <td>3</td>\n",
       "      <td>Psoriasis</td>\n",
       "      <td>There is a silver like dusting on my skin, esp...</td>\n",
       "    </tr>\n",
       "    <tr>\n",
       "      <th>4</th>\n",
       "      <td>4</td>\n",
       "      <td>Psoriasis</td>\n",
       "      <td>My nails have small dents or pits in them, and...</td>\n",
       "    </tr>\n",
       "    <tr>\n",
       "      <th>...</th>\n",
       "      <td>...</td>\n",
       "      <td>...</td>\n",
       "      <td>...</td>\n",
       "    </tr>\n",
       "    <tr>\n",
       "      <th>1195</th>\n",
       "      <td>295</td>\n",
       "      <td>diabetes</td>\n",
       "      <td>I'm shaking and trembling all over. I've lost ...</td>\n",
       "    </tr>\n",
       "    <tr>\n",
       "      <th>1196</th>\n",
       "      <td>296</td>\n",
       "      <td>diabetes</td>\n",
       "      <td>Particularly in the crevices of my skin, I hav...</td>\n",
       "    </tr>\n",
       "    <tr>\n",
       "      <th>1197</th>\n",
       "      <td>297</td>\n",
       "      <td>diabetes</td>\n",
       "      <td>I regularly experience these intense urges and...</td>\n",
       "    </tr>\n",
       "    <tr>\n",
       "      <th>1198</th>\n",
       "      <td>298</td>\n",
       "      <td>diabetes</td>\n",
       "      <td>I have trouble breathing, especially outside. ...</td>\n",
       "    </tr>\n",
       "    <tr>\n",
       "      <th>1199</th>\n",
       "      <td>299</td>\n",
       "      <td>diabetes</td>\n",
       "      <td>I constantly sneeze and have a dry cough. My i...</td>\n",
       "    </tr>\n",
       "  </tbody>\n",
       "</table>\n",
       "<p>1200 rows × 3 columns</p>\n",
       "</div>"
      ],
      "text/plain": [
       "      Unnamed: 0      label                                               text\n",
       "0              0  Psoriasis  I have been experiencing a skin rash on my arm...\n",
       "1              1  Psoriasis  My skin has been peeling, especially on my kne...\n",
       "2              2  Psoriasis  I have been experiencing joint pain in my fing...\n",
       "3              3  Psoriasis  There is a silver like dusting on my skin, esp...\n",
       "4              4  Psoriasis  My nails have small dents or pits in them, and...\n",
       "...          ...        ...                                                ...\n",
       "1195         295   diabetes  I'm shaking and trembling all over. I've lost ...\n",
       "1196         296   diabetes  Particularly in the crevices of my skin, I hav...\n",
       "1197         297   diabetes  I regularly experience these intense urges and...\n",
       "1198         298   diabetes  I have trouble breathing, especially outside. ...\n",
       "1199         299   diabetes  I constantly sneeze and have a dry cough. My i...\n",
       "\n",
       "[1200 rows x 3 columns]"
      ]
     },
     "execution_count": 37,
     "metadata": {},
     "output_type": "execute_result"
    }
   ],
   "source": [
    "data"
   ]
  },
  {
   "cell_type": "code",
   "execution_count": 38,
   "id": "e4d520f7",
   "metadata": {},
   "outputs": [],
   "source": [
    "data = data.rename(columns={'label' : 'Disease', 'text' : 'Symptoms', 'Unnamed: 0' : 'Count'})"
   ]
  },
  {
   "cell_type": "code",
   "execution_count": 39,
   "id": "279e70c0",
   "metadata": {},
   "outputs": [
    {
     "data": {
      "text/html": [
       "<div>\n",
       "<style scoped>\n",
       "    .dataframe tbody tr th:only-of-type {\n",
       "        vertical-align: middle;\n",
       "    }\n",
       "\n",
       "    .dataframe tbody tr th {\n",
       "        vertical-align: top;\n",
       "    }\n",
       "\n",
       "    .dataframe thead th {\n",
       "        text-align: right;\n",
       "    }\n",
       "</style>\n",
       "<table border=\"1\" class=\"dataframe\">\n",
       "  <thead>\n",
       "    <tr style=\"text-align: right;\">\n",
       "      <th></th>\n",
       "      <th>Count</th>\n",
       "      <th>Disease</th>\n",
       "      <th>Symptoms</th>\n",
       "    </tr>\n",
       "  </thead>\n",
       "  <tbody>\n",
       "    <tr>\n",
       "      <th>0</th>\n",
       "      <td>0</td>\n",
       "      <td>Psoriasis</td>\n",
       "      <td>I have been experiencing a skin rash on my arm...</td>\n",
       "    </tr>\n",
       "    <tr>\n",
       "      <th>1</th>\n",
       "      <td>1</td>\n",
       "      <td>Psoriasis</td>\n",
       "      <td>My skin has been peeling, especially on my kne...</td>\n",
       "    </tr>\n",
       "    <tr>\n",
       "      <th>2</th>\n",
       "      <td>2</td>\n",
       "      <td>Psoriasis</td>\n",
       "      <td>I have been experiencing joint pain in my fing...</td>\n",
       "    </tr>\n",
       "    <tr>\n",
       "      <th>3</th>\n",
       "      <td>3</td>\n",
       "      <td>Psoriasis</td>\n",
       "      <td>There is a silver like dusting on my skin, esp...</td>\n",
       "    </tr>\n",
       "    <tr>\n",
       "      <th>4</th>\n",
       "      <td>4</td>\n",
       "      <td>Psoriasis</td>\n",
       "      <td>My nails have small dents or pits in them, and...</td>\n",
       "    </tr>\n",
       "    <tr>\n",
       "      <th>...</th>\n",
       "      <td>...</td>\n",
       "      <td>...</td>\n",
       "      <td>...</td>\n",
       "    </tr>\n",
       "    <tr>\n",
       "      <th>1195</th>\n",
       "      <td>295</td>\n",
       "      <td>diabetes</td>\n",
       "      <td>I'm shaking and trembling all over. I've lost ...</td>\n",
       "    </tr>\n",
       "    <tr>\n",
       "      <th>1196</th>\n",
       "      <td>296</td>\n",
       "      <td>diabetes</td>\n",
       "      <td>Particularly in the crevices of my skin, I hav...</td>\n",
       "    </tr>\n",
       "    <tr>\n",
       "      <th>1197</th>\n",
       "      <td>297</td>\n",
       "      <td>diabetes</td>\n",
       "      <td>I regularly experience these intense urges and...</td>\n",
       "    </tr>\n",
       "    <tr>\n",
       "      <th>1198</th>\n",
       "      <td>298</td>\n",
       "      <td>diabetes</td>\n",
       "      <td>I have trouble breathing, especially outside. ...</td>\n",
       "    </tr>\n",
       "    <tr>\n",
       "      <th>1199</th>\n",
       "      <td>299</td>\n",
       "      <td>diabetes</td>\n",
       "      <td>I constantly sneeze and have a dry cough. My i...</td>\n",
       "    </tr>\n",
       "  </tbody>\n",
       "</table>\n",
       "<p>1200 rows × 3 columns</p>\n",
       "</div>"
      ],
      "text/plain": [
       "      Count    Disease                                           Symptoms\n",
       "0         0  Psoriasis  I have been experiencing a skin rash on my arm...\n",
       "1         1  Psoriasis  My skin has been peeling, especially on my kne...\n",
       "2         2  Psoriasis  I have been experiencing joint pain in my fing...\n",
       "3         3  Psoriasis  There is a silver like dusting on my skin, esp...\n",
       "4         4  Psoriasis  My nails have small dents or pits in them, and...\n",
       "...     ...        ...                                                ...\n",
       "1195    295   diabetes  I'm shaking and trembling all over. I've lost ...\n",
       "1196    296   diabetes  Particularly in the crevices of my skin, I hav...\n",
       "1197    297   diabetes  I regularly experience these intense urges and...\n",
       "1198    298   diabetes  I have trouble breathing, especially outside. ...\n",
       "1199    299   diabetes  I constantly sneeze and have a dry cough. My i...\n",
       "\n",
       "[1200 rows x 3 columns]"
      ]
     },
     "execution_count": 39,
     "metadata": {},
     "output_type": "execute_result"
    }
   ],
   "source": [
    "data"
   ]
  },
  {
   "cell_type": "code",
   "execution_count": 40,
   "id": "4f27c756",
   "metadata": {},
   "outputs": [],
   "source": [
    "# label encoding from scratch our target label 'Disease'\n",
    "\n",
    "d = {}\n",
    "for i, disease in enumerate(data['Disease'].unique()):\n",
    "    d[disease] = i\n"
   ]
  },
  {
   "cell_type": "code",
   "execution_count": 41,
   "id": "c449165d",
   "metadata": {},
   "outputs": [
    {
     "data": {
      "text/plain": [
       "{'Psoriasis': 0,\n",
       " 'Varicose Veins': 1,\n",
       " 'Typhoid': 2,\n",
       " 'Chicken pox': 3,\n",
       " 'Impetigo': 4,\n",
       " 'Dengue': 5,\n",
       " 'Fungal infection': 6,\n",
       " 'Common Cold': 7,\n",
       " 'Pneumonia': 8,\n",
       " 'Dimorphic Hemorrhoids': 9,\n",
       " 'Arthritis': 10,\n",
       " 'Acne': 11,\n",
       " 'Bronchial Asthma': 12,\n",
       " 'Hypertension': 13,\n",
       " 'Migraine': 14,\n",
       " 'Cervical spondylosis': 15,\n",
       " 'Jaundice': 16,\n",
       " 'Malaria': 17,\n",
       " 'urinary tract infection': 18,\n",
       " 'allergy': 19,\n",
       " 'gastroesophageal reflux disease': 20,\n",
       " 'drug reaction': 21,\n",
       " 'peptic ulcer disease': 22,\n",
       " 'diabetes': 23}"
      ]
     },
     "execution_count": 41,
     "metadata": {},
     "output_type": "execute_result"
    }
   ],
   "source": [
    "d"
   ]
  },
  {
   "cell_type": "code",
   "execution_count": 186,
   "id": "67dc9b6a",
   "metadata": {},
   "outputs": [],
   "source": [
    "def encoder(disease):\n",
    "    return d[disease]\n",
    "data['Disease_Encoded'] = data['Disease'].map(encoder).astype('object')"
   ]
  },
  {
   "cell_type": "code",
   "execution_count": 274,
   "id": "6eb2662f",
   "metadata": {},
   "outputs": [
    {
     "data": {
      "image/png": "[encoded data removed]",
      "text/plain": [
       "<Figure size 432x288 with 1 Axes>"
      ]
     },
     "metadata": {
      "needs_background": "light"
     },
     "output_type": "display_data"
    }
   ],
   "source": [
    "data[\"Disease\"].value_counts(ascending = True).plot.barh()\n",
    "plt.title(\"Frequency of Classes\")\n",
    "plt.show()"
   ]
  },
  {
   "cell_type": "code",
   "execution_count": 43,
   "id": "e5688c62",
   "metadata": {},
   "outputs": [
    {
     "data": {
      "text/html": [
       "<div>\n",
       "<style scoped>\n",
       "    .dataframe tbody tr th:only-of-type {\n",
       "        vertical-align: middle;\n",
       "    }\n",
       "\n",
       "    .dataframe tbody tr th {\n",
       "        vertical-align: top;\n",
       "    }\n",
       "\n",
       "    .dataframe thead th {\n",
       "        text-align: right;\n",
       "    }\n",
       "</style>\n",
       "<table border=\"1\" class=\"dataframe\">\n",
       "  <thead>\n",
       "    <tr style=\"text-align: right;\">\n",
       "      <th></th>\n",
       "      <th>Count</th>\n",
       "      <th>Disease</th>\n",
       "      <th>Symptoms</th>\n",
       "      <th>Disease_Encoded</th>\n",
       "    </tr>\n",
       "  </thead>\n",
       "  <tbody>\n",
       "    <tr>\n",
       "      <th>0</th>\n",
       "      <td>0</td>\n",
       "      <td>Psoriasis</td>\n",
       "      <td>I have been experiencing a skin rash on my arm...</td>\n",
       "      <td>0</td>\n",
       "    </tr>\n",
       "    <tr>\n",
       "      <th>1</th>\n",
       "      <td>1</td>\n",
       "      <td>Psoriasis</td>\n",
       "      <td>My skin has been peeling, especially on my kne...</td>\n",
       "      <td>0</td>\n",
       "    </tr>\n",
       "    <tr>\n",
       "      <th>2</th>\n",
       "      <td>2</td>\n",
       "      <td>Psoriasis</td>\n",
       "      <td>I have been experiencing joint pain in my fing...</td>\n",
       "      <td>0</td>\n",
       "    </tr>\n",
       "    <tr>\n",
       "      <th>3</th>\n",
       "      <td>3</td>\n",
       "      <td>Psoriasis</td>\n",
       "      <td>There is a silver like dusting on my skin, esp...</td>\n",
       "      <td>0</td>\n",
       "    </tr>\n",
       "    <tr>\n",
       "      <th>4</th>\n",
       "      <td>4</td>\n",
       "      <td>Psoriasis</td>\n",
       "      <td>My nails have small dents or pits in them, and...</td>\n",
       "      <td>0</td>\n",
       "    </tr>\n",
       "    <tr>\n",
       "      <th>...</th>\n",
       "      <td>...</td>\n",
       "      <td>...</td>\n",
       "      <td>...</td>\n",
       "      <td>...</td>\n",
       "    </tr>\n",
       "    <tr>\n",
       "      <th>1195</th>\n",
       "      <td>295</td>\n",
       "      <td>diabetes</td>\n",
       "      <td>I'm shaking and trembling all over. I've lost ...</td>\n",
       "      <td>23</td>\n",
       "    </tr>\n",
       "    <tr>\n",
       "      <th>1196</th>\n",
       "      <td>296</td>\n",
       "      <td>diabetes</td>\n",
       "      <td>Particularly in the crevices of my skin, I hav...</td>\n",
       "      <td>23</td>\n",
       "    </tr>\n",
       "    <tr>\n",
       "      <th>1197</th>\n",
       "      <td>297</td>\n",
       "      <td>diabetes</td>\n",
       "      <td>I regularly experience these intense urges and...</td>\n",
       "      <td>23</td>\n",
       "    </tr>\n",
       "    <tr>\n",
       "      <th>1198</th>\n",
       "      <td>298</td>\n",
       "      <td>diabetes</td>\n",
       "      <td>I have trouble breathing, especially outside. ...</td>\n",
       "      <td>23</td>\n",
       "    </tr>\n",
       "    <tr>\n",
       "      <th>1199</th>\n",
       "      <td>299</td>\n",
       "      <td>diabetes</td>\n",
       "      <td>I constantly sneeze and have a dry cough. My i...</td>\n",
       "      <td>23</td>\n",
       "    </tr>\n",
       "  </tbody>\n",
       "</table>\n",
       "<p>1200 rows × 4 columns</p>\n",
       "</div>"
      ],
      "text/plain": [
       "      Count    Disease                                           Symptoms  \\\n",
       "0         0  Psoriasis  I have been experiencing a skin rash on my arm...   \n",
       "1         1  Psoriasis  My skin has been peeling, especially on my kne...   \n",
       "2         2  Psoriasis  I have been experiencing joint pain in my fing...   \n",
       "3         3  Psoriasis  There is a silver like dusting on my skin, esp...   \n",
       "4         4  Psoriasis  My nails have small dents or pits in them, and...   \n",
       "...     ...        ...                                                ...   \n",
       "1195    295   diabetes  I'm shaking and trembling all over. I've lost ...   \n",
       "1196    296   diabetes  Particularly in the crevices of my skin, I hav...   \n",
       "1197    297   diabetes  I regularly experience these intense urges and...   \n",
       "1198    298   diabetes  I have trouble breathing, especially outside. ...   \n",
       "1199    299   diabetes  I constantly sneeze and have a dry cough. My i...   \n",
       "\n",
       "      Disease_Encoded  \n",
       "0                   0  \n",
       "1                   0  \n",
       "2                   0  \n",
       "3                   0  \n",
       "4                   0  \n",
       "...               ...  \n",
       "1195               23  \n",
       "1196               23  \n",
       "1197               23  \n",
       "1198               23  \n",
       "1199               23  \n",
       "\n",
       "[1200 rows x 4 columns]"
      ]
     },
     "execution_count": 43,
     "metadata": {},
     "output_type": "execute_result"
    }
   ],
   "source": [
    "data"
   ]
  },
  {
   "cell_type": "code",
   "execution_count": 44,
   "id": "870bf87e",
   "metadata": {},
   "outputs": [
    {
     "name": "stderr",
     "output_type": "stream",
     "text": [
      "C:\\Users\\rober\\AppData\\Local\\Temp\\ipykernel_1388\\754426309.py:4: FutureWarning: The default value of regex will change from True to False in a future version.\n",
      "  data['Symptoms'] = data['Symptoms'].str.replace('[^\\w\\s]', '')\n"
     ]
    }
   ],
   "source": [
    "# we want to make our symptoms text as simple as possible and remove all unnessecary details\n",
    "# let's remove all puncuation and make all letters lowercase\n",
    "\n",
    "data['Symptoms'] = data['Symptoms'].str.replace('[^\\w\\s]', '')\n",
    "            "
   ]
  },
  {
   "cell_type": "code",
   "execution_count": 45,
   "id": "6b8c1a8b",
   "metadata": {},
   "outputs": [
    {
     "data": {
      "text/plain": [
       "'There is a silver like dusting on my skin especially on my lower back and scalp This dusting is made up of small scales that flake off easily when I scratch them'"
      ]
     },
     "execution_count": 45,
     "metadata": {},
     "output_type": "execute_result"
    }
   ],
   "source": [
    "data['Symptoms'][3]\n",
    "# punctuation removed with regex "
   ]
  },
  {
   "cell_type": "code",
   "execution_count": 46,
   "id": "72ea2cfa",
   "metadata": {},
   "outputs": [],
   "source": [
    "data['Symptoms'] = data['Symptoms'].str.lower()"
   ]
  },
  {
   "cell_type": "code",
   "execution_count": 47,
   "id": "50544e6c",
   "metadata": {},
   "outputs": [
    {
     "data": {
      "text/plain": [
       "'there is a silver like dusting on my skin especially on my lower back and scalp this dusting is made up of small scales that flake off easily when i scratch them'"
      ]
     },
     "execution_count": 47,
     "metadata": {},
     "output_type": "execute_result"
    }
   ],
   "source": [
    "data['Symptoms'][3]\n",
    "# lowercase"
   ]
  },
  {
   "cell_type": "code",
   "execution_count": 48,
   "id": "5d839684",
   "metadata": {},
   "outputs": [
    {
     "name": "stderr",
     "output_type": "stream",
     "text": [
      "[nltk_data] Downloading package stopwords to\n",
      "[nltk_data]     C:\\Users\\rober\\AppData\\Roaming\\nltk_data...\n",
      "[nltk_data]   Package stopwords is already up-to-date!\n"
     ]
    }
   ],
   "source": [
    "# next thing we can do is remove stop words that do not provide information\n",
    "import nltk\n",
    "nltk.download('stopwords')\n",
    "from nltk.corpus import stopwords\n",
    "stop = stopwords.words('english')\n",
    "data['Symptoms'] = data['Symptoms'].apply(lambda x : ' '.join([word for word in x.split() if word not in (stop)]))"
   ]
  },
  {
   "cell_type": "code",
   "execution_count": 49,
   "id": "395bb90d",
   "metadata": {},
   "outputs": [
    {
     "data": {
      "text/plain": [
       "'silver like dusting skin especially lower back scalp dusting made small scales flake easily scratch'"
      ]
     },
     "execution_count": 49,
     "metadata": {},
     "output_type": "execute_result"
    }
   ],
   "source": [
    "data['Symptoms'][3]\n",
    "# words like 'there', 'is', and 'a' are removed"
   ]
  },
  {
   "cell_type": "code",
   "execution_count": 53,
   "id": "52b3b4ad",
   "metadata": {},
   "outputs": [
    {
     "name": "stderr",
     "output_type": "stream",
     "text": [
      "[nltk_data] Downloading package punkt to\n",
      "[nltk_data]     C:\\Users\\rober\\AppData\\Roaming\\nltk_data...\n",
      "[nltk_data]   Unzipping tokenizers\\punkt.zip.\n"
     ]
    }
   ],
   "source": [
    "# lets tokenize our data so that each word is it's own entry in a list\n",
    "from nltk.tokenize import word_tokenize\n",
    "nltk.download('punkt')\n",
    "data['Symptoms'] = data['Symptoms'].map(lambda x : word_tokenize(x))"
   ]
  },
  {
   "cell_type": "code",
   "execution_count": 54,
   "id": "5635adbe",
   "metadata": {},
   "outputs": [
    {
     "data": {
      "text/plain": [
       "['silver',\n",
       " 'like',\n",
       " 'dusting',\n",
       " 'skin',\n",
       " 'especially',\n",
       " 'lower',\n",
       " 'back',\n",
       " 'scalp',\n",
       " 'dusting',\n",
       " 'made',\n",
       " 'small',\n",
       " 'scales',\n",
       " 'flake',\n",
       " 'easily',\n",
       " 'scratch']"
      ]
     },
     "execution_count": 54,
     "metadata": {},
     "output_type": "execute_result"
    }
   ],
   "source": [
    "data['Symptoms'][3]"
   ]
  },
  {
   "cell_type": "code",
   "execution_count": 237,
   "id": "74090b1d",
   "metadata": {},
   "outputs": [],
   "source": [
    "import tensorflow as tf\n",
    "from tensorflow.keras.preprocessing.text import Tokenizer\n",
    "from tensorflow.keras.preprocessing.sequence import pad_sequences\n",
    "\n",
    "tokenizer = Tokenizer(oov_token=\"<OOV>\")\n",
    "tokenizer.fit_on_texts(data['Symptoms'])\n",
    "\n",
    "def tokenize_and_pad(words, tokenizer, max_len=50):\n",
    "    # convert the text to sequences of integers\n",
    "    sequences = tokenizer.texts_to_sequences(words)\n",
    "    # pad the sequences using the maxlen to make all sequences the same length\n",
    "    padded_sequences = pad_sequences(sequences, maxlen=max_len, padding='post')\n",
    "    return padded_sequences\n",
    "\n",
    " \n",
    " "
   ]
  },
  {
   "cell_type": "code",
   "execution_count": 238,
   "id": "3cb4001f",
   "metadata": {},
   "outputs": [],
   "source": [
    "text_vecorized = tokenize_and_pad(data['Symptoms'], tokenizer)"
   ]
  },
  {
   "cell_type": "code",
   "execution_count": 245,
   "id": "6c38e12f",
   "metadata": {},
   "outputs": [],
   "source": [
    "labels = data['Disease_Encoded'].values"
   ]
  },
  {
   "cell_type": "code",
   "execution_count": 249,
   "id": "9444d3c6",
   "metadata": {},
   "outputs": [],
   "source": [
    "new_labels = labels.reshape(-1, 1)"
   ]
  },
  {
   "cell_type": "code",
   "execution_count": 250,
   "id": "af84e491",
   "metadata": {},
   "outputs": [
    {
     "data": {
      "text/plain": [
       "(1200, 1)"
      ]
     },
     "execution_count": 250,
     "metadata": {},
     "output_type": "execute_result"
    }
   ],
   "source": [
    "new_labels.shape"
   ]
  },
  {
   "cell_type": "code",
   "execution_count": 252,
   "id": "90eef53a",
   "metadata": {},
   "outputs": [],
   "source": [
    "from sklearn.model_selection import train_test_split\n",
    "X = text_vecorized\n",
    "Y = new_labels\n",
    "text_train, text_test, label_train, label_test = train_test_split(X, Y, test_size = 0.2)"
   ]
  },
  {
   "cell_type": "code",
   "execution_count": 258,
   "id": "e4ecf4a0",
   "metadata": {},
   "outputs": [
    {
     "data": {
      "text/plain": [
       "(numpy.ndarray, (240, 50), (960, 1))"
      ]
     },
     "execution_count": 258,
     "metadata": {},
     "output_type": "execute_result"
    }
   ],
   "source": [
    "(type(text_train), text_test.shape, label_train.shape)"
   ]
  },
  {
   "cell_type": "code",
   "execution_count": 283,
   "id": "506dff32",
   "metadata": {},
   "outputs": [
    {
     "name": "stdout",
     "output_type": "stream",
     "text": [
      "Model: \"sequential_14\"\n",
      "_________________________________________________________________\n",
      " Layer (type)                Output Shape              Param #   \n",
      "=================================================================\n",
      " embedding_14 (Embedding)    (None, 50, 128)           256000    \n",
      "                                                                 \n",
      " global_average_pooling1d_14  (None, 128)              0         \n",
      "  (GlobalAveragePooling1D)                                       \n",
      "                                                                 \n",
      " dense_28 (Dense)            (None, 32)                4128      \n",
      "                                                                 \n",
      " dense_29 (Dense)            (None, 24)                792       \n",
      "                                                                 \n",
      "=================================================================\n",
      "Total params: 260,920\n",
      "Trainable params: 260,920\n",
      "Non-trainable params: 0\n",
      "_________________________________________________________________\n",
      "Epoch 1/30\n",
      "30/30 [==============================] - 1s 10ms/step - loss: 3.1746 - accuracy: 0.0792 - val_loss: 3.1628 - val_accuracy: 0.4125\n",
      "Epoch 2/30\n",
      "30/30 [==============================] - 0s 4ms/step - loss: 3.1536 - accuracy: 0.4125 - val_loss: 3.1380 - val_accuracy: 0.4583\n",
      "Epoch 3/30\n",
      "30/30 [==============================] - 0s 4ms/step - loss: 3.1212 - accuracy: 0.4219 - val_loss: 3.0940 - val_accuracy: 0.4750\n",
      "Epoch 4/30\n",
      "30/30 [==============================] - 0s 4ms/step - loss: 3.0604 - accuracy: 0.4750 - val_loss: 3.0160 - val_accuracy: 0.5417\n",
      "Epoch 5/30\n",
      "30/30 [==============================] - 0s 4ms/step - loss: 2.9517 - accuracy: 0.5729 - val_loss: 2.8878 - val_accuracy: 0.6625\n",
      "Epoch 6/30\n",
      "30/30 [==============================] - 0s 4ms/step - loss: 2.7717 - accuracy: 0.7094 - val_loss: 2.6817 - val_accuracy: 0.6833\n",
      "Epoch 7/30\n",
      "30/30 [==============================] - 0s 4ms/step - loss: 2.5089 - accuracy: 0.7135 - val_loss: 2.4015 - val_accuracy: 0.6917\n",
      "Epoch 8/30\n",
      "30/30 [==============================] - 0s 4ms/step - loss: 2.1815 - accuracy: 0.7417 - val_loss: 2.0904 - val_accuracy: 0.6917\n",
      "Epoch 9/30\n",
      "30/30 [==============================] - 0s 4ms/step - loss: 1.8396 - accuracy: 0.7969 - val_loss: 1.7868 - val_accuracy: 0.7750\n",
      "Epoch 10/30\n",
      "30/30 [==============================] - 0s 4ms/step - loss: 1.5276 - accuracy: 0.8490 - val_loss: 1.5225 - val_accuracy: 0.8042\n",
      "Epoch 11/30\n",
      "30/30 [==============================] - 0s 4ms/step - loss: 1.2578 - accuracy: 0.9052 - val_loss: 1.3061 - val_accuracy: 0.8292\n",
      "Epoch 12/30\n",
      "30/30 [==============================] - 0s 4ms/step - loss: 1.0468 - accuracy: 0.9125 - val_loss: 1.1349 - val_accuracy: 0.8208\n",
      "Epoch 13/30\n",
      "30/30 [==============================] - 0s 4ms/step - loss: 0.8754 - accuracy: 0.9229 - val_loss: 0.9943 - val_accuracy: 0.8375\n",
      "Epoch 14/30\n",
      "30/30 [==============================] - 0s 4ms/step - loss: 0.7394 - accuracy: 0.9365 - val_loss: 0.8966 - val_accuracy: 0.8250\n",
      "Epoch 15/30\n",
      "30/30 [==============================] - 0s 4ms/step - loss: 0.6286 - accuracy: 0.9458 - val_loss: 0.7931 - val_accuracy: 0.8375\n",
      "Epoch 16/30\n",
      "30/30 [==============================] - 0s 4ms/step - loss: 0.5402 - accuracy: 0.9583 - val_loss: 0.7234 - val_accuracy: 0.8583\n",
      "Epoch 17/30\n",
      "30/30 [==============================] - 0s 4ms/step - loss: 0.4681 - accuracy: 0.9594 - val_loss: 0.6631 - val_accuracy: 0.8708\n",
      "Epoch 18/30\n",
      "30/30 [==============================] - 0s 4ms/step - loss: 0.4073 - accuracy: 0.9792 - val_loss: 0.6130 - val_accuracy: 0.8833\n",
      "Epoch 19/30\n",
      "30/30 [==============================] - 0s 4ms/step - loss: 0.3559 - accuracy: 0.9812 - val_loss: 0.5714 - val_accuracy: 0.8833\n",
      "Epoch 20/30\n",
      "30/30 [==============================] - 0s 4ms/step - loss: 0.3178 - accuracy: 0.9812 - val_loss: 0.5456 - val_accuracy: 0.8750\n",
      "Epoch 21/30\n",
      "30/30 [==============================] - 0s 4ms/step - loss: 0.2794 - accuracy: 0.9854 - val_loss: 0.4974 - val_accuracy: 0.9042\n",
      "Epoch 22/30\n",
      "30/30 [==============================] - 0s 4ms/step - loss: 0.2476 - accuracy: 0.9906 - val_loss: 0.4743 - val_accuracy: 0.9042\n",
      "Epoch 23/30\n",
      "30/30 [==============================] - 0s 4ms/step - loss: 0.2213 - accuracy: 0.9896 - val_loss: 0.4499 - val_accuracy: 0.9000\n",
      "Epoch 24/30\n",
      "30/30 [==============================] - 0s 4ms/step - loss: 0.1958 - accuracy: 0.9927 - val_loss: 0.4204 - val_accuracy: 0.9083\n",
      "Epoch 25/30\n",
      "30/30 [==============================] - 0s 4ms/step - loss: 0.1763 - accuracy: 0.9948 - val_loss: 0.4069 - val_accuracy: 0.9167\n",
      "Epoch 26/30\n",
      "30/30 [==============================] - 0s 4ms/step - loss: 0.1587 - accuracy: 0.9948 - val_loss: 0.3819 - val_accuracy: 0.9167\n",
      "Epoch 27/30\n",
      "30/30 [==============================] - 0s 4ms/step - loss: 0.1424 - accuracy: 0.9948 - val_loss: 0.3714 - val_accuracy: 0.9167\n",
      "Epoch 28/30\n",
      "30/30 [==============================] - 0s 4ms/step - loss: 0.1277 - accuracy: 0.9969 - val_loss: 0.3567 - val_accuracy: 0.9208\n",
      "Epoch 29/30\n",
      "30/30 [==============================] - 0s 4ms/step - loss: 0.1152 - accuracy: 0.9969 - val_loss: 0.3406 - val_accuracy: 0.9208\n",
      "Epoch 30/30\n",
      "30/30 [==============================] - 0s 4ms/step - loss: 0.1042 - accuracy: 0.9969 - val_loss: 0.3307 - val_accuracy: 0.9250\n"
     ]
    }
   ],
   "source": [
    "model = tf.keras.Sequential([\n",
    "    tf.keras.layers.Embedding(2000, 128, input_length = 50),\n",
    "    tf.keras.layers.GlobalAveragePooling1D(),\n",
    "    tf.keras.layers.Dense(32, activation='relu'),\n",
    "    tf.keras.layers.Dense(24, activation='softmax')])\n",
    "\n",
    "model.summary()\n",
    "model.compile(loss='sparse_categorical_crossentropy', optimizer='adam', metrics=['accuracy'])\n",
    "\n",
    "# train the model\n",
    "history = model.fit(text_train, label_train, epochs=30, validation_data=(text_test, label_test))\n"
   ]
  },
  {
   "cell_type": "code",
   "execution_count": 264,
   "id": "ada365ff",
   "metadata": {},
   "outputs": [],
   "source": [
    "text_train = np.asarray(text_train).astype(np.int64)\n",
    "label_train = np.asarray(label_train).astype(np.int64)\n",
    "text_test = np.asarray(text_test).astype(np.int64)\n",
    "label_test = np.asarray(label_test).astype(np.int64)"
   ]
  },
  {
   "cell_type": "code",
   "execution_count": 282,
   "id": "93c80a47",
   "metadata": {},
   "outputs": [
    {
     "name": "stdout",
     "output_type": "stream",
     "text": [
      "Model: \"sequential_13\"\n",
      "_________________________________________________________________\n",
      " Layer (type)                Output Shape              Param #   \n",
      "=================================================================\n",
      " embedding_13 (Embedding)    (None, 50, 128)           256000    \n",
      "                                                                 \n",
      " dropout_15 (Dropout)        (None, 50, 128)           0         \n",
      "                                                                 \n",
      " conv1d_5 (Conv1D)           (None, 46, 128)           82048     \n",
      "                                                                 \n",
      " global_average_pooling1d_13  (None, 128)              0         \n",
      "  (GlobalAveragePooling1D)                                       \n",
      "                                                                 \n",
      " dropout_16 (Dropout)        (None, 128)               0         \n",
      "                                                                 \n",
      " dense_26 (Dense)            (None, 32)                4128      \n",
      "                                                                 \n",
      " dropout_17 (Dropout)        (None, 32)                0         \n",
      "                                                                 \n",
      " dense_27 (Dense)            (None, 24)                792       \n",
      "                                                                 \n",
      "=================================================================\n",
      "Total params: 342,968\n",
      "Trainable params: 342,968\n",
      "Non-trainable params: 0\n",
      "_________________________________________________________________\n",
      "Epoch 1/30\n",
      "30/30 [==============================] - 2s 19ms/step - loss: 3.1770 - accuracy: 0.0396 - val_loss: 3.1737 - val_accuracy: 0.0292\n",
      "Epoch 2/30\n",
      "30/30 [==============================] - 0s 13ms/step - loss: 3.1493 - accuracy: 0.0938 - val_loss: 3.1108 - val_accuracy: 0.2208\n",
      "Epoch 3/30\n",
      "30/30 [==============================] - 0s 13ms/step - loss: 2.9789 - accuracy: 0.2167 - val_loss: 2.7612 - val_accuracy: 0.2208\n",
      "Epoch 4/30\n",
      "30/30 [==============================] - 0s 13ms/step - loss: 2.4159 - accuracy: 0.2990 - val_loss: 2.0773 - val_accuracy: 0.3667\n",
      "Epoch 5/30\n",
      "30/30 [==============================] - 0s 13ms/step - loss: 1.8119 - accuracy: 0.4635 - val_loss: 1.5240 - val_accuracy: 0.6375\n",
      "Epoch 6/30\n",
      "30/30 [==============================] - 0s 13ms/step - loss: 1.3783 - accuracy: 0.6177 - val_loss: 1.2081 - val_accuracy: 0.6833\n",
      "Epoch 7/30\n",
      "30/30 [==============================] - 0s 12ms/step - loss: 1.0511 - accuracy: 0.7156 - val_loss: 0.9449 - val_accuracy: 0.7458\n",
      "Epoch 8/30\n",
      "30/30 [==============================] - 0s 12ms/step - loss: 0.8342 - accuracy: 0.7646 - val_loss: 0.7655 - val_accuracy: 0.7917\n",
      "Epoch 9/30\n",
      "30/30 [==============================] - 0s 13ms/step - loss: 0.6338 - accuracy: 0.8427 - val_loss: 0.6375 - val_accuracy: 0.8083\n",
      "Epoch 10/30\n",
      "30/30 [==============================] - 0s 13ms/step - loss: 0.5398 - accuracy: 0.8552 - val_loss: 0.5627 - val_accuracy: 0.8375\n",
      "Epoch 11/30\n",
      "30/30 [==============================] - 0s 13ms/step - loss: 0.4112 - accuracy: 0.9073 - val_loss: 0.5056 - val_accuracy: 0.8500\n",
      "Epoch 12/30\n",
      "30/30 [==============================] - 0s 13ms/step - loss: 0.3799 - accuracy: 0.8938 - val_loss: 0.4487 - val_accuracy: 0.8708\n",
      "Epoch 13/30\n",
      "30/30 [==============================] - 0s 13ms/step - loss: 0.2935 - accuracy: 0.9240 - val_loss: 0.4070 - val_accuracy: 0.8875\n",
      "Epoch 14/30\n",
      "30/30 [==============================] - 0s 13ms/step - loss: 0.2709 - accuracy: 0.9292 - val_loss: 0.4208 - val_accuracy: 0.8833\n",
      "Epoch 15/30\n",
      "30/30 [==============================] - 0s 13ms/step - loss: 0.1980 - accuracy: 0.9510 - val_loss: 0.3947 - val_accuracy: 0.8833\n",
      "Epoch 16/30\n",
      "30/30 [==============================] - 0s 13ms/step - loss: 0.1965 - accuracy: 0.9469 - val_loss: 0.3813 - val_accuracy: 0.8875\n",
      "Epoch 17/30\n",
      "30/30 [==============================] - 0s 13ms/step - loss: 0.1544 - accuracy: 0.9615 - val_loss: 0.3624 - val_accuracy: 0.8875\n",
      "Epoch 18/30\n",
      "30/30 [==============================] - 0s 13ms/step - loss: 0.1412 - accuracy: 0.9708 - val_loss: 0.3703 - val_accuracy: 0.8917\n",
      "Epoch 19/30\n",
      "30/30 [==============================] - 0s 14ms/step - loss: 0.1376 - accuracy: 0.9708 - val_loss: 0.3292 - val_accuracy: 0.8958\n",
      "Epoch 20/30\n",
      "30/30 [==============================] - 0s 14ms/step - loss: 0.1074 - accuracy: 0.9802 - val_loss: 0.3593 - val_accuracy: 0.8917\n",
      "Epoch 21/30\n",
      "30/30 [==============================] - 0s 14ms/step - loss: 0.1038 - accuracy: 0.9760 - val_loss: 0.3492 - val_accuracy: 0.8917\n",
      "Epoch 22/30\n",
      "30/30 [==============================] - 0s 13ms/step - loss: 0.0858 - accuracy: 0.9823 - val_loss: 0.3166 - val_accuracy: 0.9042\n",
      "Epoch 23/30\n",
      "30/30 [==============================] - 0s 13ms/step - loss: 0.0944 - accuracy: 0.9781 - val_loss: 0.3014 - val_accuracy: 0.9042\n",
      "Epoch 24/30\n",
      "30/30 [==============================] - 0s 12ms/step - loss: 0.0840 - accuracy: 0.9844 - val_loss: 0.3277 - val_accuracy: 0.9000\n",
      "Epoch 25/30\n",
      "30/30 [==============================] - 0s 14ms/step - loss: 0.0729 - accuracy: 0.9833 - val_loss: 0.3181 - val_accuracy: 0.9042\n",
      "Epoch 26/30\n",
      "30/30 [==============================] - 0s 13ms/step - loss: 0.0890 - accuracy: 0.9781 - val_loss: 0.3191 - val_accuracy: 0.9000\n",
      "Epoch 27/30\n",
      "30/30 [==============================] - 0s 13ms/step - loss: 0.0699 - accuracy: 0.9833 - val_loss: 0.3097 - val_accuracy: 0.9000\n",
      "Epoch 28/30\n",
      "30/30 [==============================] - 0s 13ms/step - loss: 0.0674 - accuracy: 0.9865 - val_loss: 0.3071 - val_accuracy: 0.9125\n",
      "Epoch 29/30\n",
      "30/30 [==============================] - 0s 13ms/step - loss: 0.0556 - accuracy: 0.9875 - val_loss: 0.3066 - val_accuracy: 0.9083\n",
      "Epoch 30/30\n",
      "30/30 [==============================] - 0s 12ms/step - loss: 0.0525 - accuracy: 0.9875 - val_loss: 0.2958 - val_accuracy: 0.9083\n"
     ]
    }
   ],
   "source": [
    "model_conv = tf.keras.Sequential([\n",
    "    tf.keras.layers.Embedding(2000, 128, input_length=50),\n",
    "    tf.keras.layers.Dropout(0.3),\n",
    "    tf.keras.layers.Conv1D(128, 5, activation='relu'),\n",
    "    tf.keras.layers.GlobalAveragePooling1D(),\n",
    "    tf.keras.layers.Dropout(0.3),\n",
    "    tf.keras.layers.Dense(32, activation='relu'),\n",
    "    tf.keras.layers.Dropout(0.1),\n",
    "    tf.keras.layers.Dense(24, activation='softmax')])\n",
    "model_conv.summary()\n",
    "\n",
    "model_conv.compile(loss='sparse_categorical_crossentropy', optimizer='adam', metrics=['accuracy'])\n",
    "\n",
    "# train the model\n",
    "model_conv_history = model_conv.fit(text_train, label_train, epochs = 30, validation_data = (text_test, label_test))\n",
    "\n"
   ]
  },
  {
   "cell_type": "code",
   "execution_count": 279,
   "id": "8a1b62a2",
   "metadata": {},
   "outputs": [
    {
     "data": {
      "image/png": "[encoded data removed]",
      "text/plain": [
       "<Figure size 432x288 with 1 Axes>"
      ]
     },
     "metadata": {
      "needs_background": "light"
     },
     "output_type": "display_data"
    }
   ],
   "source": [
    "pd.DataFrame(model_conv_history.history).plot();"
   ]
  },
  {
   "cell_type": "code",
   "execution_count": 288,
   "id": "dac1ef21",
   "metadata": {},
   "outputs": [
    {
     "name": "stdout",
     "output_type": "stream",
     "text": [
      "Model: \"sequential_18\"\n",
      "_________________________________________________________________\n",
      " Layer (type)                Output Shape              Param #   \n",
      "=================================================================\n",
      " embedding_18 (Embedding)    (None, 50, 128)           256000    \n",
      "                                                                 \n",
      " dropout_25 (Dropout)        (None, 50, 128)           0         \n",
      "                                                                 \n",
      " bidirectional_3 (Bidirectio  (None, 128)              98816     \n",
      " nal)                                                            \n",
      "                                                                 \n",
      " dropout_26 (Dropout)        (None, 128)               0         \n",
      "                                                                 \n",
      " dense_36 (Dense)            (None, 32)                4128      \n",
      "                                                                 \n",
      " dense_37 (Dense)            (None, 24)                792       \n",
      "                                                                 \n",
      "=================================================================\n",
      "Total params: 359,736\n",
      "Trainable params: 359,736\n",
      "Non-trainable params: 0\n",
      "_________________________________________________________________\n",
      "Epoch 1/30\n",
      "30/30 [==============================] - 6s 65ms/step - loss: 3.1627 - accuracy: 0.0938 - val_loss: 3.1098 - val_accuracy: 0.2167\n",
      "Epoch 2/30\n",
      "30/30 [==============================] - 1s 31ms/step - loss: 2.8875 - accuracy: 0.2042 - val_loss: 2.5142 - val_accuracy: 0.3583\n",
      "Epoch 3/30\n",
      "30/30 [==============================] - 1s 31ms/step - loss: 2.1562 - accuracy: 0.3396 - val_loss: 1.8429 - val_accuracy: 0.4625\n",
      "Epoch 4/30\n",
      "30/30 [==============================] - 1s 31ms/step - loss: 1.5813 - accuracy: 0.5323 - val_loss: 1.4556 - val_accuracy: 0.6292\n",
      "Epoch 5/30\n",
      "30/30 [==============================] - 1s 30ms/step - loss: 1.1587 - accuracy: 0.6875 - val_loss: 1.2230 - val_accuracy: 0.6750\n",
      "Epoch 6/30\n",
      "30/30 [==============================] - 1s 31ms/step - loss: 0.8621 - accuracy: 0.7948 - val_loss: 1.0288 - val_accuracy: 0.7375\n",
      "Epoch 7/30\n",
      "30/30 [==============================] - 1s 31ms/step - loss: 0.5574 - accuracy: 0.9031 - val_loss: 0.9588 - val_accuracy: 0.7667\n",
      "Epoch 8/30\n",
      "30/30 [==============================] - 1s 32ms/step - loss: 0.4130 - accuracy: 0.9344 - val_loss: 0.8275 - val_accuracy: 0.7875\n",
      "Epoch 9/30\n",
      "30/30 [==============================] - 1s 32ms/step - loss: 0.2838 - accuracy: 0.9604 - val_loss: 0.7953 - val_accuracy: 0.8125\n",
      "Epoch 10/30\n",
      "30/30 [==============================] - 1s 31ms/step - loss: 0.1781 - accuracy: 0.9812 - val_loss: 0.7441 - val_accuracy: 0.8167\n",
      "Epoch 11/30\n",
      "30/30 [==============================] - 1s 31ms/step - loss: 0.1073 - accuracy: 0.9958 - val_loss: 0.7683 - val_accuracy: 0.8292\n",
      "Epoch 12/30\n",
      "30/30 [==============================] - 1s 31ms/step - loss: 0.0887 - accuracy: 0.9948 - val_loss: 0.7129 - val_accuracy: 0.8500\n",
      "Epoch 13/30\n",
      "30/30 [==============================] - 1s 31ms/step - loss: 0.0696 - accuracy: 0.9948 - val_loss: 0.8347 - val_accuracy: 0.8208\n",
      "Epoch 14/30\n",
      "30/30 [==============================] - 1s 31ms/step - loss: 0.0585 - accuracy: 0.9969 - val_loss: 0.7764 - val_accuracy: 0.8417\n",
      "Epoch 15/30\n",
      "30/30 [==============================] - 1s 31ms/step - loss: 0.0761 - accuracy: 0.9885 - val_loss: 0.7211 - val_accuracy: 0.8542\n",
      "Epoch 16/30\n",
      "30/30 [==============================] - 1s 31ms/step - loss: 0.0756 - accuracy: 0.9844 - val_loss: 0.7306 - val_accuracy: 0.8375\n",
      "Epoch 17/30\n",
      "30/30 [==============================] - 1s 31ms/step - loss: 0.0520 - accuracy: 0.9937 - val_loss: 0.8580 - val_accuracy: 0.8292\n",
      "Epoch 18/30\n",
      "30/30 [==============================] - 1s 32ms/step - loss: 0.0296 - accuracy: 0.9969 - val_loss: 0.8269 - val_accuracy: 0.8458\n",
      "Epoch 19/30\n",
      "30/30 [==============================] - 1s 31ms/step - loss: 0.0225 - accuracy: 0.9990 - val_loss: 0.8131 - val_accuracy: 0.8500\n",
      "Epoch 20/30\n",
      "30/30 [==============================] - 1s 31ms/step - loss: 0.0175 - accuracy: 1.0000 - val_loss: 0.8539 - val_accuracy: 0.8458\n",
      "Epoch 21/30\n",
      "30/30 [==============================] - 1s 31ms/step - loss: 0.0151 - accuracy: 1.0000 - val_loss: 0.8197 - val_accuracy: 0.8417\n",
      "Epoch 22/30\n",
      "30/30 [==============================] - 1s 31ms/step - loss: 0.0199 - accuracy: 0.9990 - val_loss: 0.7497 - val_accuracy: 0.8708\n",
      "Epoch 23/30\n",
      "30/30 [==============================] - 1s 31ms/step - loss: 0.0246 - accuracy: 0.9948 - val_loss: 0.8280 - val_accuracy: 0.8333\n",
      "Epoch 24/30\n",
      "30/30 [==============================] - 1s 31ms/step - loss: 0.0446 - accuracy: 0.9927 - val_loss: 0.9596 - val_accuracy: 0.8208\n",
      "Epoch 25/30\n",
      "30/30 [==============================] - 1s 31ms/step - loss: 0.0222 - accuracy: 0.9979 - val_loss: 0.9370 - val_accuracy: 0.8500\n",
      "Epoch 26/30\n",
      "30/30 [==============================] - 1s 31ms/step - loss: 0.0203 - accuracy: 0.9958 - val_loss: 0.8385 - val_accuracy: 0.8542\n",
      "Epoch 27/30\n",
      "30/30 [==============================] - 1s 31ms/step - loss: 0.0128 - accuracy: 1.0000 - val_loss: 0.8299 - val_accuracy: 0.8458\n",
      "Epoch 28/30\n",
      "30/30 [==============================] - 1s 31ms/step - loss: 0.0093 - accuracy: 1.0000 - val_loss: 0.8875 - val_accuracy: 0.8417\n",
      "Epoch 29/30\n",
      "30/30 [==============================] - 1s 32ms/step - loss: 0.0084 - accuracy: 1.0000 - val_loss: 0.8635 - val_accuracy: 0.8375\n",
      "Epoch 30/30\n",
      "30/30 [==============================] - 1s 32ms/step - loss: 0.0085 - accuracy: 0.9990 - val_loss: 0.9334 - val_accuracy: 0.8333\n"
     ]
    }
   ],
   "source": [
    "#tf.random.set_seed(42)\n",
    "model_lstm = tf.keras.Sequential([\n",
    "    tf.keras.layers.Embedding(2000, 128, input_length=50),\n",
    "    tf.keras.layers.Dropout(0.3),\n",
    "    tf.keras.layers.Bidirectional(tf.keras.layers.LSTM(64)),\n",
    "    tf.keras.layers.Dropout(0.2),\n",
    "    tf.keras.layers.Dense(32, activation='relu'),\n",
    "    \n",
    "    tf.keras.layers.Dense(24, activation='softmax')])\n",
    "model_lstm.summary()\n",
    "\n",
    "model_lstm.compile(loss='sparse_categorical_crossentropy', optimizer='adam', metrics=['accuracy'])\n",
    "\n",
    "# train the model\n",
    "model_lstm_history = model_lstm.fit(text_train, label_train, epochs=30, validation_data=(text_test, label_test))"
   ]
  },
  {
   "cell_type": "code",
   "execution_count": 289,
   "id": "5115a274",
   "metadata": {},
   "outputs": [
    {
     "data": {
      "image/png": "[encoded data removed]",
      "text/plain": [
       "<Figure size 432x288 with 1 Axes>"
      ]
     },
     "metadata": {
      "needs_background": "light"
     },
     "output_type": "display_data"
    }
   ],
   "source": [
    "pd.DataFrame(model_lstm_history.history).plot();"
   ]
  },
  {
   "cell_type": "code",
   "execution_count": null,
   "id": "b065ffb6",
   "metadata": {},
   "outputs": [],
   "source": []
  }
 ],
 "metadata": {
  "kernelspec": {
   "display_name": "Python 3 (ipykernel)",
   "language": "python",
   "name": "python3"
  },
  "language_info": {
   "codemirror_mode": {
    "name": "ipython",
    "version": 3
   },
   "file_extension": ".py",
   "mimetype": "text/x-python",
   "name": "python",
   "nbconvert_exporter": "python",
   "pygments_lexer": "ipython3",
   "version": "3.9.12"
  }
 },
 "nbformat": 4,
 "nbformat_minor": 5
}
